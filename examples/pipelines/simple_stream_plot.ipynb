{
 "cells": [
  {
   "cell_type": "code",
   "execution_count": 1,
   "metadata": {
    "execution": {
     "iopub.execute_input": "2024-07-06T19:12:05.152564Z",
     "iopub.status.busy": "2024-07-06T19:12:05.151945Z",
     "iopub.status.idle": "2024-07-06T19:12:06.204668Z",
     "shell.execute_reply": "2024-07-06T19:12:06.204372Z",
     "shell.execute_reply.started": "2024-07-06T19:12:05.152522Z"
    }
   },
   "outputs": [
    {
     "data": {
      "application/vnd.jupyter.widget-view+json": {
       "model_id": "86034114d19a4fff8790279910478c1a",
       "version_major": 2,
       "version_minor": 0
      },
      "text/plain": [
       "Image(value=b'\\x89PNG\\r\\n\\x1a\\n\\x00\\x00\\x00\\rIHDR\\x00\\x00\\x01,\\x00\\x00\\x007\\x08\\x06\\x00\\x00\\x00\\xb6\\x1bw\\x99\\x…"
      ]
     },
     "metadata": {},
     "output_type": "display_data"
    },
    {
     "name": "stdout",
     "output_type": "stream",
     "text": [
      "Available devices:\n",
      "🯄 (default) | Apple M2 Pro | IntegratedGPU | Metal | \n"
     ]
    }
   ],
   "source": [
    "import streaminghub_datamux as dm\n",
    "import numpy as np\n",
    "import fastplotlib as fpl"
   ]
  },
  {
   "cell_type": "code",
   "execution_count": 2,
   "metadata": {
    "execution": {
     "iopub.execute_input": "2024-07-06T19:12:07.911837Z",
     "iopub.status.busy": "2024-07-06T19:12:07.911116Z",
     "iopub.status.idle": "2024-07-06T19:12:07.916723Z",
     "shell.execute_reply": "2024-07-06T19:12:07.916021Z",
     "shell.execute_reply.started": "2024-07-06T19:12:07.911803Z"
    }
   },
   "outputs": [],
   "source": [
    "# constants\n",
    "dataset = \"ADHD_SIN\"\n",
    "timeout = 10\n",
    "screen_wh = (1920, 1080)\n",
    "diag_dist = (21, 22)\n",
    "freq = 60\n",
    "\n",
    "# hyperparameters\n",
    "vt = 10"
   ]
  },
  {
   "cell_type": "code",
   "execution_count": 3,
   "metadata": {
    "execution": {
     "iopub.execute_input": "2024-07-06T19:12:09.511063Z",
     "iopub.status.busy": "2024-07-06T19:12:09.510543Z",
     "iopub.status.idle": "2024-07-06T19:12:09.664311Z",
     "shell.execute_reply": "2024-07-06T19:12:09.663863Z",
     "shell.execute_reply.started": "2024-07-06T19:12:09.511031Z"
    }
   },
   "outputs": [
    {
     "name": "stdout",
     "output_type": "stream",
     "text": [
      "Loaded streaminghub_datamux.rpc.client:websocket\n",
      "Loaded streaminghub_datamux.rpc.codec:msgpack\n"
     ]
    }
   ],
   "source": [
    "mode = \"remote\"\n",
    "\n",
    "# setup datamux api\n",
    "if mode == \"local\":\n",
    "    api = dm.API()\n",
    "\n",
    "elif mode == \"remote\":\n",
    "    api = dm.RemoteAPI(\"websocket\", \"msgpack\")\n",
    "    api.connect(\"full-darling-gar.ngrok-free.app\", 80)\n",
    "\n",
    "else:\n",
    "    raise ValueError(mode)"
   ]
  },
  {
   "cell_type": "code",
   "execution_count": 4,
   "metadata": {
    "execution": {
     "iopub.execute_input": "2024-07-06T19:12:13.617089Z",
     "iopub.status.busy": "2024-07-06T19:12:13.616418Z",
     "iopub.status.idle": "2024-07-06T19:12:13.996518Z",
     "shell.execute_reply": "2024-07-06T19:12:13.996125Z",
     "shell.execute_reply.started": "2024-07-06T19:12:13.617044Z"
    }
   },
   "outputs": [
    {
     "name": "stdout",
     "output_type": "stream",
     "text": [
      "name='eye movements' description='' unit='pixel, mm' frequency=60 fields={'lx': Field(name='left x', description='', dtype=<class 'numpy.float32'>), 'ly': Field(name='left y', description='', dtype=<class 'numpy.float32'>), 'ld': Field(name='left d', description='', dtype=<class 'numpy.float32'>), 'rx': Field(name='right x', description='', dtype=<class 'numpy.float32'>), 'ry': Field(name='right y', description='', dtype=<class 'numpy.float32'>), 'rd': Field(name='right d', description='', dtype=<class 'numpy.float32'>)} index={'t': Field(name='timestamp', description='', dtype=<class 'numpy.float32'>)} node=Node(id='ADHD_SIN', device=None, uri=None, inputs={}, outputs={}) attrs={'subject': '012', 'noise': '10', 'task': '13', 'collection': 'ADHD_SIN', 'id': 'eye', 'mode': 'replay'}\n"
     ]
    }
   ],
   "source": [
    "streams = api.list_collection_streams(dataset)  # for recorded data (ADHD_SIN)\n",
    "# streams = api.list_live_streams(\"pupil_core\")  # for live data (pupil_core)\n",
    "\n",
    "# get the first stream\n",
    "eye_stream = streams[2]\n",
    "print(eye_stream)"
   ]
  },
  {
   "cell_type": "code",
   "execution_count": 5,
   "metadata": {
    "execution": {
     "iopub.execute_input": "2024-07-06T19:12:15.787421Z",
     "iopub.status.busy": "2024-07-06T19:12:15.787073Z",
     "iopub.status.idle": "2024-07-06T19:12:15.791339Z",
     "shell.execute_reply": "2024-07-06T19:12:15.790676Z",
     "shell.execute_reply.started": "2024-07-06T19:12:15.787396Z"
    }
   },
   "outputs": [],
   "source": [
    "# define a transform to map data into (t,x,y,d) format and handle missing values\n",
    "merge = dm.ExpressionMap(\n",
    "    {\n",
    "        \"t\": \"t\",\n",
    "        \"x\": \"(lx + rx) / 2\",\n",
    "        \"y\": \"(ly + ry) / 2\",\n",
    "        \"d\": \"(ld + rd) / 2\",\n",
    "    }\n",
    ")\n",
    "\n",
    "cast = dm.ExpressionMap(\n",
    "    {\n",
    "        \"t\": \"float(t)\",\n",
    "        \"x\": \"float(x)\",\n",
    "        \"y\": \"float(y)\",\n",
    "        \"d\": \"float(d)\",\n",
    "    }\n",
    ")"
   ]
  },
  {
   "cell_type": "code",
   "execution_count": 6,
   "metadata": {
    "execution": {
     "iopub.execute_input": "2024-07-06T19:12:19.900771Z",
     "iopub.status.busy": "2024-07-06T19:12:19.900229Z",
     "iopub.status.idle": "2024-07-06T19:12:19.906046Z",
     "shell.execute_reply": "2024-07-06T19:12:19.904820Z",
     "shell.execute_reply.started": "2024-07-06T19:12:19.900736Z"
    }
   },
   "outputs": [],
   "source": [
    "class LogWriter(dm.SinkTask):\n",
    "\n",
    "    def __init__(self) -> None:\n",
    "        super().__init__()\n",
    "\n",
    "    def step(self, input) -> int | None:\n",
    "        print(input)"
   ]
  },
  {
   "cell_type": "code",
   "execution_count": 7,
   "metadata": {
    "execution": {
     "iopub.execute_input": "2024-07-06T19:12:21.000758Z",
     "iopub.status.busy": "2024-07-06T19:12:21.000121Z",
     "iopub.status.idle": "2024-07-06T19:12:21.010932Z",
     "shell.execute_reply": "2024-07-06T19:12:21.010194Z",
     "shell.execute_reply.started": "2024-07-06T19:12:21.000717Z"
    }
   },
   "outputs": [],
   "source": [
    "class GazePlot2D(dm.SinkTask):\n",
    "\n",
    "    def __init__(self) -> None:\n",
    "        super().__init__(mode=\"thread\")\n",
    "        # make all-zeros data point\n",
    "        self.n = 100\n",
    "        self.buffer = np.full((self.n, 3), np.nan, dtype=np.float32)\n",
    "        self.running = True\n",
    "        \n",
    "        # figure with 1 rows and 1 column\n",
    "        shape = (1,1)\n",
    "        controller_ids = [[0]]\n",
    "        \n",
    "        # create the figure\n",
    "        self.fig = fpl.Figure(shape=shape, cameras='2d', controller_ids=controller_ids)\n",
    "        \n",
    "        for i, subplot in enumerate(self.fig):\n",
    "            # create and add the LineGraphic\n",
    "            subplot.add_line(data=self.buffer, thickness=3, cmap='jet', name=\"xy\")\n",
    "            # make axes visible\n",
    "            subplot.set_axes_visibility(False)\n",
    "            subplot.set_grid_visibility(True)\n",
    "        display(self.fig.show())\n",
    "        self.fig.add_animations(lambda: self.update_view())\n",
    "\n",
    "    # a function to move the ball along the buffer\n",
    "    def update_view(self):\n",
    "        if not self.running:\n",
    "            return\n",
    "        for subplot in self.fig:\n",
    "            subplot[\"xy\"].data[:] = self.buffer[:]\n",
    "            subplot.auto_scale()\n",
    "\n",
    "    def step(self, input) -> int | None:\n",
    "        item = np.array([[input['x'], input['y'], input['t']]])\n",
    "        self.buffer = np.concatenate( (self.buffer[-self.n+1:], item), axis=0)"
   ]
  },
  {
   "cell_type": "code",
   "execution_count": 8,
   "metadata": {
    "execution": {
     "iopub.execute_input": "2024-07-06T19:12:23.419586Z",
     "iopub.status.busy": "2024-07-06T19:12:23.418915Z",
     "iopub.status.idle": "2024-07-06T19:12:23.752741Z",
     "shell.execute_reply": "2024-07-06T19:12:23.750347Z",
     "shell.execute_reply.started": "2024-07-06T19:12:23.419541Z"
    }
   },
   "outputs": [
    {
     "data": {
      "application/vnd.jupyter.widget-view+json": {
       "model_id": "ef564af5f0d647fcbd665ee008604604",
       "version_major": 2,
       "version_minor": 0
      },
      "text/plain": [
       "RFBOutputContext()"
      ]
     },
     "metadata": {},
     "output_type": "display_data"
    },
    {
     "name": "stderr",
     "output_type": "stream",
     "text": [
      "Attempting to remove object that was not a child.\n"
     ]
    },
    {
     "data": {
      "application/vnd.jupyter.widget-view+json": {
       "model_id": "1ed104cfc0424ccc81126f0f931ac794",
       "version_major": 2,
       "version_minor": 0
      },
      "text/plain": [
       "JupyterOutputContext(children=(JupyterWgpuCanvas(), IpywidgetToolBar(children=(Button(icon='expand-arrows-alt'…"
      ]
     },
     "metadata": {},
     "output_type": "display_data"
    },
    {
     "name": "stdout",
     "output_type": "stream",
     "text": [
      "\u001b[2;36m[15:12:28]\u001b[0m\u001b[2;36m \u001b[0m\u001b[34mINFO    \u001b[0m pipeline completed                         \u001b]8;id=954462;file:///Users/yasith/projects/streaminghub/streaminghub_datamux/src/streaminghub_datamux/transforms.py\u001b\\\u001b[2mtransforms.py\u001b[0m\u001b]8;;\u001b\\\u001b[2m:\u001b[0m\u001b]8;id=969702;file:///Users/yasith/projects/streaminghub/streaminghub_datamux/src/streaminghub_datamux/transforms.py#187\u001b\\\u001b[2m187\u001b[0m\u001b]8;;\u001b\\\n"
     ]
    }
   ],
   "source": [
    "# define pipeline\n",
    "pipeline_A = dm.Pipeline(\n",
    "    api.attach(eye_stream, transform=merge).with_name(\"eye\"),\n",
    "    dm.Filter(\"not (isnan(x) or isnan(y) or isnan(d))\"),\n",
    "    dm.Transform(cast),\n",
    "    GazePlot2D().with_name(\"2d_gaze_plot\"),\n",
    ").with_name(\"simple_logger\")\n",
    "# run pipeline\n",
    "pipeline_A.run(timeout, block=False)"
   ]
  },
  {
   "cell_type": "code",
   "execution_count": null,
   "metadata": {},
   "outputs": [],
   "source": []
  }
 ],
 "metadata": {
  "kernelspec": {
   "display_name": "Python 3 (ipykernel)",
   "language": "python",
   "name": "python3"
  },
  "language_info": {
   "codemirror_mode": {
    "name": "ipython",
    "version": 3
   },
   "file_extension": ".py",
   "mimetype": "text/x-python",
   "name": "python",
   "nbconvert_exporter": "python",
   "pygments_lexer": "ipython3",
   "version": "3.10.14"
  }
 },
 "nbformat": 4,
 "nbformat_minor": 4
}
