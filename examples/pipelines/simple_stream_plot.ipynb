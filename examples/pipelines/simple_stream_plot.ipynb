{
 "cells": [
  {
   "cell_type": "code",
   "execution_count": 1,
   "metadata": {
    "execution": {
     "iopub.execute_input": "2024-07-06T21:28:24.111026Z",
     "iopub.status.busy": "2024-07-06T21:28:24.109751Z",
     "iopub.status.idle": "2024-07-06T21:28:25.162969Z",
     "shell.execute_reply": "2024-07-06T21:28:25.162608Z",
     "shell.execute_reply.started": "2024-07-06T21:28:24.110947Z"
    }
   },
   "outputs": [
    {
     "data": {
      "application/vnd.jupyter.widget-view+json": {
       "model_id": "4a97e65aa9fa44c496698a7369d98305",
       "version_major": 2,
       "version_minor": 0
      },
      "text/plain": [
       "Image(value=b'\\x89PNG\\r\\n\\x1a\\n\\x00\\x00\\x00\\rIHDR\\x00\\x00\\x01,\\x00\\x00\\x007\\x08\\x06\\x00\\x00\\x00\\xb6\\x1bw\\x99\\x…"
      ]
     },
     "metadata": {},
     "output_type": "display_data"
    },
    {
     "name": "stdout",
     "output_type": "stream",
     "text": [
      "Available devices:\n",
      "🯄 (default) | Apple M2 Pro | IntegratedGPU | Metal | \n"
     ]
    }
   ],
   "source": [
    "import numpy as np\n",
    "import fastplotlib as fpl\n",
    "\n",
    "import streaminghub_datamux as dm"
   ]
  },
  {
   "cell_type": "code",
   "execution_count": 2,
   "metadata": {
    "execution": {
     "iopub.execute_input": "2024-07-06T21:28:25.636003Z",
     "iopub.status.busy": "2024-07-06T21:28:25.635380Z",
     "iopub.status.idle": "2024-07-06T21:28:25.640850Z",
     "shell.execute_reply": "2024-07-06T21:28:25.640201Z",
     "shell.execute_reply.started": "2024-07-06T21:28:25.635966Z"
    }
   },
   "outputs": [],
   "source": [
    "# constants\n",
    "dataset = \"ADHD_SIN\"\n",
    "timeout = 10\n",
    "screen_wh = (1920, 1080)\n",
    "diag_dist = (21, 22)\n",
    "freq = 60\n",
    "\n",
    "# hyperparameters\n",
    "vt = 10"
   ]
  },
  {
   "cell_type": "code",
   "execution_count": 3,
   "metadata": {
    "execution": {
     "iopub.execute_input": "2024-07-06T21:28:26.556403Z",
     "iopub.status.busy": "2024-07-06T21:28:26.555822Z",
     "iopub.status.idle": "2024-07-06T21:28:26.789053Z",
     "shell.execute_reply": "2024-07-06T21:28:26.787651Z",
     "shell.execute_reply.started": "2024-07-06T21:28:26.556363Z"
    }
   },
   "outputs": [
    {
     "name": "stdout",
     "output_type": "stream",
     "text": [
      "Loaded streaminghub_datamux.rpc.client:websocket\n",
      "Loaded streaminghub_datamux.rpc.codec:msgpack\n"
     ]
    }
   ],
   "source": [
    "mode = \"remote\"\n",
    "\n",
    "# setup datamux api\n",
    "if mode == \"local\":\n",
    "    api = dm.API()\n",
    "\n",
    "elif mode == \"remote\":\n",
    "    api = dm.RemoteAPI(\"websocket\", \"msgpack\")\n",
    "    api.connect(\"full-darling-gar.ngrok-free.app\", 80)\n",
    "\n",
    "else:\n",
    "    raise ValueError(mode)"
   ]
  },
  {
   "cell_type": "code",
   "execution_count": 4,
   "metadata": {
    "execution": {
     "iopub.execute_input": "2024-07-06T21:28:27.842976Z",
     "iopub.status.busy": "2024-07-06T21:28:27.842617Z",
     "iopub.status.idle": "2024-07-06T21:28:28.208524Z",
     "shell.execute_reply": "2024-07-06T21:28:28.208216Z",
     "shell.execute_reply.started": "2024-07-06T21:28:27.842950Z"
    }
   },
   "outputs": [
    {
     "name": "stdout",
     "output_type": "stream",
     "text": [
      "name='eye movements' description='' unit='pixel, mm' frequency=60 fields={'lx': Field(name='left x', description='', dtype=<class 'numpy.float32'>), 'ly': Field(name='left y', description='', dtype=<class 'numpy.float32'>), 'ld': Field(name='left d', description='', dtype=<class 'numpy.float32'>), 'rx': Field(name='right x', description='', dtype=<class 'numpy.float32'>), 'ry': Field(name='right y', description='', dtype=<class 'numpy.float32'>), 'rd': Field(name='right d', description='', dtype=<class 'numpy.float32'>)} index={'t': Field(name='timestamp', description='', dtype=<class 'numpy.float32'>)} node=Node(id='ADHD_SIN', device=None, uri=None, inputs={}, outputs={}) attrs={'subject': '012', 'noise': '10', 'task': '13', 'collection': 'ADHD_SIN', 'id': 'eye', 'mode': 'replay'}\n"
     ]
    }
   ],
   "source": [
    "streams = api.list_collection_streams(dataset)  # for recorded data (ADHD_SIN)\n",
    "# streams = api.list_live_streams(\"pupil_core\")  # for live data (pupil_core)\n",
    "\n",
    "# get the first stream\n",
    "eye_stream = streams[2]\n",
    "print(eye_stream)"
   ]
  },
  {
   "cell_type": "code",
   "execution_count": 5,
   "metadata": {
    "execution": {
     "iopub.execute_input": "2024-07-06T21:28:31.525307Z",
     "iopub.status.busy": "2024-07-06T21:28:31.524673Z",
     "iopub.status.idle": "2024-07-06T21:28:31.532030Z",
     "shell.execute_reply": "2024-07-06T21:28:31.530526Z",
     "shell.execute_reply.started": "2024-07-06T21:28:31.525268Z"
    }
   },
   "outputs": [],
   "source": [
    "# define a transform to map data into (t,x,y,d) format and handle missing values\n",
    "merge = dm.ExpressionMap(\n",
    "    {\n",
    "        \"t\": \"t\",\n",
    "        \"x\": \"(lx + rx) / 2\",\n",
    "        \"y\": \"(ly + ry) / 2\",\n",
    "        \"d\": \"(ld + rd) / 2\",\n",
    "    }\n",
    ")\n",
    "\n",
    "cast = dm.ExpressionMap(\n",
    "    {\n",
    "        \"t\": \"float(t)\",\n",
    "        \"x\": \"float(x)\",\n",
    "        \"y\": \"float(y)\",\n",
    "        \"d\": \"float(d)\",\n",
    "    }\n",
    ")"
   ]
  },
  {
   "cell_type": "code",
   "execution_count": 6,
   "metadata": {
    "execution": {
     "iopub.execute_input": "2024-07-06T21:28:32.957241Z",
     "iopub.status.busy": "2024-07-06T21:28:32.956633Z",
     "iopub.status.idle": "2024-07-06T21:28:32.963330Z",
     "shell.execute_reply": "2024-07-06T21:28:32.961813Z",
     "shell.execute_reply.started": "2024-07-06T21:28:32.957206Z"
    }
   },
   "outputs": [],
   "source": [
    "class LogWriter(dm.SinkTask):\n",
    "\n",
    "    def __init__(self) -> None:\n",
    "        super().__init__()\n",
    "\n",
    "    def step(self, input) -> int | None:\n",
    "        print(input)"
   ]
  },
  {
   "cell_type": "code",
   "execution_count": 7,
   "metadata": {
    "execution": {
     "iopub.execute_input": "2024-07-06T21:28:35.867247Z",
     "iopub.status.busy": "2024-07-06T21:28:35.866630Z",
     "iopub.status.idle": "2024-07-06T21:28:35.877644Z",
     "shell.execute_reply": "2024-07-06T21:28:35.876721Z",
     "shell.execute_reply.started": "2024-07-06T21:28:35.867210Z"
    }
   },
   "outputs": [],
   "source": [
    "class GazePlot2D(dm.SinkTask):\n",
    "\n",
    "    def __init__(self) -> None:\n",
    "        super().__init__(mode=\"thread\")\n",
    "        # make all-zeros data point\n",
    "        self.n = 1000\n",
    "        self.buffer = np.full((self.n, 3), np.nan, dtype=np.float32)\n",
    "        \n",
    "        # figure with 1 rows and 1 column\n",
    "        shape = (1,1)\n",
    "        controller_ids = [[0]]\n",
    "        \n",
    "        # create the figure\n",
    "        self.fig = fpl.Figure(shape=shape, cameras='2d', controller_ids=controller_ids)\n",
    "        \n",
    "        for i, subplot in enumerate(self.fig):\n",
    "            # create and add the LineGraphic\n",
    "            subplot.add_line(data=self.buffer, thickness=2, cmap='viridis', name=\"xy\")\n",
    "            # make axes visible\n",
    "            subplot.set_axes_visibility(False)\n",
    "            subplot.set_grid_visibility(True)\n",
    "        display(self.fig.show())\n",
    "        self.fig.add_animations(lambda: self.update_view())\n",
    "\n",
    "    # a function to move the ball along the buffer\n",
    "    def update_view(self):\n",
    "        if self.completed.is_set():\n",
    "            return\n",
    "        for subplot in self.fig:\n",
    "            subplot[\"xy\"].data[:] = self.buffer[:]\n",
    "            subplot.auto_scale()\n",
    "\n",
    "    def step(self, input) -> int | None:\n",
    "        item = np.array([[input['x'], input['y'], input['t']]])\n",
    "        self.buffer = np.concatenate( (self.buffer[-self.n+1:], item), axis=0)"
   ]
  },
  {
   "cell_type": "code",
   "execution_count": 8,
   "metadata": {
    "execution": {
     "iopub.execute_input": "2024-07-06T21:28:48.793462Z",
     "iopub.status.busy": "2024-07-06T21:28:48.793197Z",
     "iopub.status.idle": "2024-07-06T21:28:48.901365Z",
     "shell.execute_reply": "2024-07-06T21:28:48.900701Z",
     "shell.execute_reply.started": "2024-07-06T21:28:48.793397Z"
    }
   },
   "outputs": [
    {
     "data": {
      "application/vnd.jupyter.widget-view+json": {
       "model_id": "e332967191f64bc6af1b7f5edee89444",
       "version_major": 2,
       "version_minor": 0
      },
      "text/plain": [
       "RFBOutputContext()"
      ]
     },
     "metadata": {},
     "output_type": "display_data"
    },
    {
     "name": "stderr",
     "output_type": "stream",
     "text": [
      "Attempting to remove object that was not a child.\n"
     ]
    },
    {
     "data": {
      "application/vnd.jupyter.widget-view+json": {
       "model_id": "19c310d40e954197bc0ab1a98ae06f49",
       "version_major": 2,
       "version_minor": 0
      },
      "text/plain": [
       "JupyterOutputContext(children=(JupyterWgpuCanvas(), IpywidgetToolBar(children=(Button(icon='expand-arrows-alt'…"
      ]
     },
     "metadata": {},
     "output_type": "display_data"
    },
    {
     "name": "stdout",
     "output_type": "stream",
     "text": [
      "\u001b[2;36m[15:33:01]\u001b[0m\u001b[2;36m \u001b[0m\u001b[34mINFO    \u001b[0m pipeline completed                         \u001b]8;id=832815;file:///Users/yasith/projects/streaminghub/streaminghub_datamux/src/streaminghub_datamux/transforms.py\u001b\\\u001b[2mtransforms.py\u001b[0m\u001b]8;;\u001b\\\u001b[2m:\u001b[0m\u001b]8;id=268814;file:///Users/yasith/projects/streaminghub/streaminghub_datamux/src/streaminghub_datamux/transforms.py#187\u001b\\\u001b[2m187\u001b[0m\u001b]8;;\u001b\\\n"
     ]
    }
   ],
   "source": [
    "# define pipeline\n",
    "pipeline_A = dm.Pipeline(\n",
    "    api.attach(eye_stream, transform=merge).with_name(\"eye\"),\n",
    "    dm.Filter(\"not (isnan(x) or isnan(y) or isnan(d))\"),\n",
    "    dm.Transform(cast),\n",
    "    GazePlot2D().with_name(\"2d_gaze_plot\"),\n",
    ").with_name(\"simple_logger\")\n",
    "# run pipeline\n",
    "pipeline_A.run(timeout, block=False)"
   ]
  },
  {
   "cell_type": "code",
   "execution_count": null,
   "metadata": {},
   "outputs": [],
   "source": []
  }
 ],
 "metadata": {
  "kernelspec": {
   "display_name": "Python 3 (ipykernel)",
   "language": "python",
   "name": "python3"
  },
  "language_info": {
   "codemirror_mode": {
    "name": "ipython",
    "version": 3
   },
   "file_extension": ".py",
   "mimetype": "text/x-python",
   "name": "python",
   "nbconvert_exporter": "python",
   "pygments_lexer": "ipython3",
   "version": "3.10.14"
  }
 },
 "nbformat": 4,
 "nbformat_minor": 4
}
