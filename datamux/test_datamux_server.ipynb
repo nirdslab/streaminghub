{
 "cells": [
  {
   "attachments": {},
   "cell_type": "markdown",
   "metadata": {},
   "source": [
    "# Tests for DataMux"
   ]
  },
  {
   "cell_type": "code",
   "execution_count": 1,
   "metadata": {},
   "outputs": [],
   "source": [
    "import logging\n",
    "logging.basicConfig(format=\"%(asctime)-15s %(message)s\", level=logging.INFO)"
   ]
  },
  {
   "cell_type": "code",
   "execution_count": 2,
   "metadata": {},
   "outputs": [
    {
     "data": {
      "text/plain": [
       "True"
      ]
     },
     "execution_count": 2,
     "metadata": {},
     "output_type": "execute_result"
    }
   ],
   "source": [
    "from dotenv import load_dotenv\n",
    "load_dotenv()"
   ]
  },
  {
   "cell_type": "code",
   "execution_count": 3,
   "metadata": {},
   "outputs": [
    {
     "name": "stderr",
     "output_type": "stream",
     "text": [
      "2023-07-06 22:51:25,314 server listening on 0.0.0.0:3300\n",
      "2023-07-06 22:52:04,281 connection open\n",
      "2023-07-06 22:52:04,283 client connected: ('127.0.0.1', 59398)\n",
      "2023-07-06 22:52:17,770 started replay\n",
      "2023-07-06 22:52:21,805 ended replay\n",
      "2023-07-06 22:52:40,390 started replay\n",
      "2023-07-06 22:52:44,405 ended replay\n",
      "2023-07-06 22:53:04.263 (  99.714s) [python          ]      netinterfaces.cpp:91    INFO| netif 'lo' (status: 0, multicast: 1, broadcast: 0)\n",
      "2023-07-06 22:53:04.263 (  99.715s) [python          ]      netinterfaces.cpp:91    INFO| netif 'em1' (status: 4096, multicast: 1, broadcast: 2)\n",
      "2023-07-06 22:53:04.263 (  99.715s) [python          ]      netinterfaces.cpp:91    INFO| netif 'em2' (status: 4096, multicast: 1, broadcast: 2)\n",
      "2023-07-06 22:53:04.263 (  99.715s) [python          ]      netinterfaces.cpp:91    INFO| netif 'em3' (status: 4096, multicast: 0, broadcast: 2)\n",
      "2023-07-06 22:53:04.263 (  99.715s) [python          ]      netinterfaces.cpp:91    INFO| netif 'em4' (status: 4096, multicast: 0, broadcast: 2)\n",
      "2023-07-06 22:53:04.263 (  99.715s) [python          ]      netinterfaces.cpp:91    INFO| netif 'bond0' (status: 4096, multicast: 1, broadcast: 2)\n",
      "2023-07-06 22:53:04.263 (  99.715s) [python          ]      netinterfaces.cpp:91    INFO| netif 'ib0' (status: 4096, multicast: 1, broadcast: 2)\n",
      "2023-07-06 22:53:04.263 (  99.715s) [python          ]      netinterfaces.cpp:91    INFO| netif 'bond0.126' (status: 4096, multicast: 1, broadcast: 2)\n",
      "2023-07-06 22:53:04.263 (  99.715s) [python          ]      netinterfaces.cpp:91    INFO| netif 'bond0.2552' (status: 4096, multicast: 1, broadcast: 2)\n",
      "2023-07-06 22:53:04.263 (  99.715s) [python          ]      netinterfaces.cpp:91    INFO| netif 'docker0' (status: 4096, multicast: 1, broadcast: 2)\n",
      "2023-07-06 22:53:04.263 (  99.715s) [python          ]      netinterfaces.cpp:91    INFO| netif 'lo' (status: 0, multicast: 1, broadcast: 0)\n",
      "2023-07-06 22:53:04.263 (  99.715s) [python          ]      netinterfaces.cpp:91    INFO| netif 'bond0' (status: 4096, multicast: 1, broadcast: 2)\n",
      "2023-07-06 22:53:04.263 (  99.715s) [python          ]      netinterfaces.cpp:102   INFO| \tIPv4 addr: ac19000e\n",
      "2023-07-06 22:53:04.263 (  99.715s) [python          ]      netinterfaces.cpp:91    INFO| netif 'ib0' (status: 4096, multicast: 1, broadcast: 2)\n",
      "2023-07-06 22:53:04.263 (  99.715s) [python          ]      netinterfaces.cpp:102   INFO| \tIPv4 addr: aff040e\n",
      "2023-07-06 22:53:04.263 (  99.715s) [python          ]      netinterfaces.cpp:91    INFO| netif 'bond0.126' (status: 4096, multicast: 1, broadcast: 2)\n",
      "2023-07-06 22:53:04.263 (  99.715s) [python          ]      netinterfaces.cpp:102   INFO| \tIPv4 addr: 80527e0e\n",
      "2023-07-06 22:53:04.263 (  99.715s) [python          ]      netinterfaces.cpp:91    INFO| netif 'bond0.126' (status: 4096, multicast: 1, broadcast: 2)\n",
      "2023-07-06 22:53:04.263 (  99.715s) [python          ]      netinterfaces.cpp:102   INFO| \tIPv4 addr: 80527e0a\n",
      "2023-07-06 22:53:04.263 (  99.715s) [python          ]      netinterfaces.cpp:91    INFO| netif 'bond0.126' (status: 4096, multicast: 1, broadcast: 2)\n",
      "2023-07-06 22:53:04.263 (  99.715s) [python          ]      netinterfaces.cpp:102   INFO| \tIPv4 addr: 80527e0a\n",
      "2023-07-06 22:53:04.263 (  99.715s) [python          ]      netinterfaces.cpp:91    INFO| netif 'bond0.2552' (status: 4096, multicast: 1, broadcast: 2)\n",
      "2023-07-06 22:53:04.263 (  99.715s) [python          ]      netinterfaces.cpp:102   INFO| \tIPv4 addr: aff020e\n",
      "2023-07-06 22:53:04.263 (  99.715s) [python          ]      netinterfaces.cpp:91    INFO| netif 'docker0' (status: 4096, multicast: 1, broadcast: 2)\n",
      "2023-07-06 22:53:04.263 (  99.715s) [python          ]      netinterfaces.cpp:102   INFO| \tIPv4 addr: ac110001\n",
      "2023-07-06 22:53:04.263 (  99.715s) [python          ]      netinterfaces.cpp:91    INFO| netif 'lo' (status: 0, multicast: 1, broadcast: 0)\n",
      "2023-07-06 22:53:04.264 (  99.715s) [python          ]      netinterfaces.cpp:91    INFO| netif 'bond0' (status: 4096, multicast: 1, broadcast: 2)\n",
      "2023-07-06 22:53:04.264 (  99.715s) [python          ]      netinterfaces.cpp:105   INFO| \tIPv6 addr: fe80::266e:96ff:feb4:8544%bond0\n",
      "2023-07-06 22:53:04.264 (  99.715s) [python          ]      netinterfaces.cpp:91    INFO| netif 'ib0' (status: 4096, multicast: 1, broadcast: 2)\n",
      "2023-07-06 22:53:04.264 (  99.715s) [python          ]      netinterfaces.cpp:105   INFO| \tIPv6 addr: fe80::526b:4b03:23:f108%ib0\n",
      "2023-07-06 22:53:04.264 (  99.715s) [python          ]      netinterfaces.cpp:91    INFO| netif 'bond0.126' (status: 4096, multicast: 1, broadcast: 2)\n",
      "2023-07-06 22:53:04.264 (  99.715s) [python          ]      netinterfaces.cpp:105   INFO| \tIPv6 addr: fe80::266e:96ff:feb4:8544%bond0.126\n",
      "2023-07-06 22:53:04.264 (  99.715s) [python          ]      netinterfaces.cpp:91    INFO| netif 'bond0.2552' (status: 4096, multicast: 1, broadcast: 2)\n",
      "2023-07-06 22:53:04.264 (  99.715s) [python          ]      netinterfaces.cpp:105   INFO| \tIPv6 addr: fe80::266e:96ff:feb4:8544%bond0.2552\n",
      "2023-07-06 22:53:04,269 started restream: dt=0.0167, n=227\n",
      "2023-07-06 22:53:13,890 query: name='Gaze' and desc/attrs/diagnosis='Non-ADHD' and desc/attrs/gender='female' and desc/attrs/noise='0' and desc/attrs/participant='12' and desc/attrs/question='10' and desc/attrs/collection='adhd_sin' and desc/attrs/id='gaze' and desc/attrs/dfds_mode='restream'\n",
      "2023-07-06 22:53:13,893 found 1 stream(s)\n",
      "2023-07-06 22:53:13,895 creating inlet\n",
      "2023-07-06 22:53:13,897 creating relay task\n",
      "2023-07-06 22:53:13,900 started relay\n",
      "2023-07-06 22:53:17,939 ended restream\n",
      "2023-07-06 22:53:17.942 ( 113.393s) [R_Gaze          ]      data_receiver.cpp:342    ERR| Stream transmission broke off (Input stream error.); re-connecting...\n",
      "2023-07-06 22:53:17,966 LSL connection lost: the stream has been lost.\n",
      "2023-07-06 22:53:17,968 ended relay\n"
     ]
    }
   ],
   "source": [
    "from serving import WebsocketServer\n",
    "\n",
    "host=\"0.0.0.0\"\n",
    "port = 3300\n",
    "datamux = WebsocketServer(host, port)\n",
    "await datamux.serve()"
   ]
  }
 ],
 "metadata": {
  "kernelspec": {
   "display_name": "streaminghub",
   "language": "python",
   "name": "python3"
  },
  "language_info": {
   "codemirror_mode": {
    "name": "ipython",
    "version": 3
   },
   "file_extension": ".py",
   "mimetype": "text/x-python",
   "name": "python",
   "nbconvert_exporter": "python",
   "pygments_lexer": "ipython3",
   "version": "3.9.14"
  },
  "orig_nbformat": 4
 },
 "nbformat": 4,
 "nbformat_minor": 2
}
