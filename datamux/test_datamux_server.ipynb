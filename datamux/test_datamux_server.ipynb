{
 "cells": [
  {
   "attachments": {},
   "cell_type": "markdown",
   "metadata": {},
   "source": [
    "# Tests for DataMux"
   ]
  },
  {
   "cell_type": "code",
   "execution_count": 1,
   "metadata": {},
   "outputs": [],
   "source": [
    "import logging\n",
    "\n",
    "logging.basicConfig(format=\"%(asctime)-15s %(message)s\", level=logging.INFO)\n",
    "logger = logging.getLogger()"
   ]
  },
  {
   "cell_type": "code",
   "execution_count": 2,
   "metadata": {},
   "outputs": [
    {
     "data": {
      "text/plain": [
       "True"
      ]
     },
     "execution_count": 2,
     "metadata": {},
     "output_type": "execute_result"
    }
   ],
   "source": [
    "from dotenv import load_dotenv\n",
    "\n",
    "load_dotenv()"
   ]
  },
  {
   "cell_type": "code",
   "execution_count": 3,
   "metadata": {},
   "outputs": [],
   "source": [
    "import asyncio\n",
    "from websockets.server import serve\n",
    "from datamux import ws_handler, process_request"
   ]
  },
  {
   "cell_type": "code",
   "execution_count": 4,
   "metadata": {},
   "outputs": [
    {
     "name": "stderr",
     "output_type": "stream",
     "text": [
      "2023-07-06 15:11:18,622 server listening on 0.0.0.0:3300\n",
      "2023-07-06 15:11:53,522 connection open\n",
      "2023-07-06 15:11:53,525 client connected: ('127.0.0.1', 38798)\n",
      "2023-07-06 15:11:54.999 (  37.462s) [python          ]      netinterfaces.cpp:91    INFO| netif 'lo' (status: 0, multicast: 1, broadcast: 0)\n",
      "2023-07-06 15:11:54.999 (  37.462s) [python          ]      netinterfaces.cpp:91    INFO| netif 'em1' (status: 4096, multicast: 1, broadcast: 2)\n",
      "2023-07-06 15:11:54.999 (  37.462s) [python          ]      netinterfaces.cpp:91    INFO| netif 'em2' (status: 4096, multicast: 1, broadcast: 2)\n",
      "2023-07-06 15:11:54.999 (  37.463s) [python          ]      netinterfaces.cpp:91    INFO| netif 'em3' (status: 4096, multicast: 0, broadcast: 2)\n",
      "2023-07-06 15:11:54.999 (  37.463s) [python          ]      netinterfaces.cpp:91    INFO| netif 'em4' (status: 4096, multicast: 0, broadcast: 2)\n",
      "2023-07-06 15:11:54.999 (  37.463s) [python          ]      netinterfaces.cpp:91    INFO| netif 'bond0' (status: 4096, multicast: 1, broadcast: 2)\n",
      "2023-07-06 15:11:54.999 (  37.463s) [python          ]      netinterfaces.cpp:91    INFO| netif 'ib0' (status: 4096, multicast: 1, broadcast: 2)\n",
      "2023-07-06 15:11:54.999 (  37.463s) [python          ]      netinterfaces.cpp:91    INFO| netif 'bond0.126' (status: 4096, multicast: 1, broadcast: 2)\n",
      "2023-07-06 15:11:54.999 (  37.463s) [python          ]      netinterfaces.cpp:91    INFO| netif 'bond0.2552' (status: 4096, multicast: 1, broadcast: 2)\n",
      "2023-07-06 15:11:54.999 (  37.463s) [python          ]      netinterfaces.cpp:91    INFO| netif 'docker0' (status: 4096, multicast: 1, broadcast: 2)\n",
      "2023-07-06 15:11:54.999 (  37.463s) [python          ]      netinterfaces.cpp:91    INFO| netif 'lo' (status: 0, multicast: 1, broadcast: 0)\n",
      "2023-07-06 15:11:54.999 (  37.463s) [python          ]      netinterfaces.cpp:91    INFO| netif 'bond0' (status: 4096, multicast: 1, broadcast: 2)\n",
      "2023-07-06 15:11:54.999 (  37.463s) [python          ]      netinterfaces.cpp:102   INFO| \tIPv4 addr: ac19000e\n",
      "2023-07-06 15:11:54.999 (  37.463s) [python          ]      netinterfaces.cpp:91    INFO| netif 'ib0' (status: 4096, multicast: 1, broadcast: 2)\n",
      "2023-07-06 15:11:55.000 (  37.463s) [python          ]      netinterfaces.cpp:102   INFO| \tIPv4 addr: aff040e\n",
      "2023-07-06 15:11:55.000 (  37.463s) [python          ]      netinterfaces.cpp:91    INFO| netif 'bond0.126' (status: 4096, multicast: 1, broadcast: 2)\n",
      "2023-07-06 15:11:55.000 (  37.463s) [python          ]      netinterfaces.cpp:102   INFO| \tIPv4 addr: 80527e0e\n",
      "2023-07-06 15:11:55.000 (  37.463s) [python          ]      netinterfaces.cpp:91    INFO| netif 'bond0.126' (status: 4096, multicast: 1, broadcast: 2)\n",
      "2023-07-06 15:11:55.000 (  37.463s) [python          ]      netinterfaces.cpp:102   INFO| \tIPv4 addr: 80527e0a\n",
      "2023-07-06 15:11:55.000 (  37.463s) [python          ]      netinterfaces.cpp:91    INFO| netif 'bond0.126' (status: 4096, multicast: 1, broadcast: 2)\n",
      "2023-07-06 15:11:55.000 (  37.463s) [python          ]      netinterfaces.cpp:102   INFO| \tIPv4 addr: 80527e0a\n",
      "2023-07-06 15:11:55.000 (  37.463s) [python          ]      netinterfaces.cpp:91    INFO| netif 'bond0.2552' (status: 4096, multicast: 1, broadcast: 2)\n",
      "2023-07-06 15:11:55.000 (  37.463s) [python          ]      netinterfaces.cpp:102   INFO| \tIPv4 addr: aff020e\n",
      "2023-07-06 15:11:55.000 (  37.463s) [python          ]      netinterfaces.cpp:91    INFO| netif 'docker0' (status: 4096, multicast: 1, broadcast: 2)\n",
      "2023-07-06 15:11:55.000 (  37.463s) [python          ]      netinterfaces.cpp:102   INFO| \tIPv4 addr: ac110001\n",
      "2023-07-06 15:11:55.000 (  37.463s) [python          ]      netinterfaces.cpp:91    INFO| netif 'lo' (status: 0, multicast: 1, broadcast: 0)\n",
      "2023-07-06 15:11:55.000 (  37.463s) [python          ]      netinterfaces.cpp:91    INFO| netif 'bond0' (status: 4096, multicast: 1, broadcast: 2)\n",
      "2023-07-06 15:11:55.000 (  37.463s) [python          ]      netinterfaces.cpp:105   INFO| \tIPv6 addr: fe80::266e:96ff:feb4:8544%bond0\n",
      "2023-07-06 15:11:55.000 (  37.463s) [python          ]      netinterfaces.cpp:91    INFO| netif 'ib0' (status: 4096, multicast: 1, broadcast: 2)\n",
      "2023-07-06 15:11:55.000 (  37.463s) [python          ]      netinterfaces.cpp:105   INFO| \tIPv6 addr: fe80::526b:4b03:23:f108%ib0\n",
      "2023-07-06 15:11:55.000 (  37.464s) [python          ]      netinterfaces.cpp:91    INFO| netif 'bond0.126' (status: 4096, multicast: 1, broadcast: 2)\n",
      "2023-07-06 15:11:55.000 (  37.464s) [python          ]      netinterfaces.cpp:105   INFO| \tIPv6 addr: fe80::266e:96ff:feb4:8544%bond0.126\n",
      "2023-07-06 15:11:55.000 (  37.464s) [python          ]      netinterfaces.cpp:91    INFO| netif 'bond0.2552' (status: 4096, multicast: 1, broadcast: 2)\n",
      "2023-07-06 15:11:55.000 (  37.464s) [python          ]      netinterfaces.cpp:105   INFO| \tIPv6 addr: fe80::266e:96ff:feb4:8544%bond0.2552\n",
      "2023-07-06 15:11:55,009 started restream\n"
     ]
    }
   ],
   "source": [
    "port = 3300\n",
    "\n",
    "async def main():\n",
    "    async with serve(ws_handler, \"0.0.0.0\", port, process_request=process_request):\n",
    "        await asyncio.Future()  # run forever\n",
    "\n",
    "await main()"
   ]
  }
 ],
 "metadata": {
  "kernelspec": {
   "display_name": "streaminghub",
   "language": "python",
   "name": "python3"
  },
  "language_info": {
   "codemirror_mode": {
    "name": "ipython",
    "version": 3
   },
   "file_extension": ".py",
   "mimetype": "text/x-python",
   "name": "python",
   "nbconvert_exporter": "python",
   "pygments_lexer": "ipython3",
   "version": "3.9.14"
  },
  "orig_nbformat": 4
 },
 "nbformat": 4,
 "nbformat_minor": 2
}
