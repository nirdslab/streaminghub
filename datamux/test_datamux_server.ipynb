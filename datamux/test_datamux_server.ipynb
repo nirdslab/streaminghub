{
 "cells": [
  {
   "attachments": {},
   "cell_type": "markdown",
   "metadata": {},
   "source": [
    "# Tests for DataMux"
   ]
  },
  {
   "cell_type": "code",
   "execution_count": 1,
   "metadata": {},
   "outputs": [],
   "source": [
    "import logging\n",
    "\n",
    "logging.basicConfig(format=\"%(asctime)-15s %(message)s\", level=logging.INFO)\n",
    "logger = logging.getLogger()"
   ]
  },
  {
   "cell_type": "code",
   "execution_count": 2,
   "metadata": {},
   "outputs": [],
   "source": [
    "import asyncio\n",
    "from websockets.server import serve\n",
    "from datamux import ws_handler, process_request"
   ]
  },
  {
   "cell_type": "code",
   "execution_count": null,
   "metadata": {},
   "outputs": [
    {
     "data": {
      "text/plain": [
       "<Task pending name='Task-5' coro=<main() running at /tmp/ipykernel_67282/938805573.py:4>>"
      ]
     },
     "execution_count": 3,
     "metadata": {},
     "output_type": "execute_result"
    },
    {
     "name": "stderr",
     "output_type": "stream",
     "text": [
      "2023-07-03 03:16:31,172 server listening on 0.0.0.0:3300\n",
      "2023-07-03 03:16:33,944 connection open\n",
      "2023-07-03 03:16:33,946 client connected: ('127.0.0.1', 36146)\n",
      "2023-07-03 03:16:33,951 client connection closed: ('127.0.0.1', 36146)\n",
      "2023-07-03 03:16:33,952 client disconnected: ('127.0.0.1', 36146)\n",
      "2023-07-03 03:16:33,953 connection closed\n",
      "2023-07-03 03:16:49,298 connection open\n",
      "2023-07-03 03:16:49,300 client connected: ('127.0.0.1', 36186)\n",
      "2023-07-03 03:16:49,304 client connection closed: ('127.0.0.1', 36186)\n",
      "2023-07-03 03:16:49,306 client disconnected: ('127.0.0.1', 36186)\n",
      "2023-07-03 03:16:49,307 connection closed\n"
     ]
    }
   ],
   "source": [
    "port = 3300\n",
    "loop = asyncio.get_event_loop()\n",
    "\n",
    "async def main():\n",
    "    async with serve(ws_handler, \"0.0.0.0\", port, process_request=process_request):\n",
    "        await asyncio.Future()  # run forever\n",
    "\n",
    "loop.create_task(main())"
   ]
  }
 ],
 "metadata": {
  "kernelspec": {
   "display_name": "streaminghub",
   "language": "python",
   "name": "python3"
  },
  "language_info": {
   "codemirror_mode": {
    "name": "ipython",
    "version": 3
   },
   "file_extension": ".py",
   "mimetype": "text/x-python",
   "name": "python",
   "nbconvert_exporter": "python",
   "pygments_lexer": "ipython3",
   "version": "3.9.14"
  },
  "orig_nbformat": 4
 },
 "nbformat": 4,
 "nbformat_minor": 2
}
