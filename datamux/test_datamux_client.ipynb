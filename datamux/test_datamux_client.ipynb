{
 "cells": [
  {
   "attachments": {},
   "cell_type": "markdown",
   "metadata": {},
   "source": [
    "# Tests for DataMux"
   ]
  },
  {
   "cell_type": "code",
   "execution_count": 1,
   "metadata": {},
   "outputs": [],
   "source": [
    "import websockets\n",
    "import logging\n",
    "from serializers import Serializer\n",
    "\n",
    "from typing import List"
   ]
  },
  {
   "cell_type": "code",
   "execution_count": 2,
   "metadata": {},
   "outputs": [
    {
     "data": {
      "text/plain": [
       "True"
      ]
     },
     "execution_count": 2,
     "metadata": {},
     "output_type": "execute_result"
    }
   ],
   "source": [
    "from dotenv import load_dotenv\n",
    "\n",
    "load_dotenv()"
   ]
  },
  {
   "cell_type": "code",
   "execution_count": 3,
   "metadata": {},
   "outputs": [],
   "source": [
    "logging.basicConfig(format=\"%(asctime)-15s %(message)s\", level=logging.INFO)\n",
    "serializer = Serializer(\"json\")\n",
    "websocket = await websockets.connect('ws://127.0.0.1:3300/ws')"
   ]
  },
  {
   "cell_type": "code",
   "execution_count": 4,
   "metadata": {},
   "outputs": [
    {
     "name": "stdout",
     "output_type": "stream",
     "text": [
      "b'list_collections'\n",
      "{'name': 'adhd_sin', 'description': 'Eye movements of participants during an audiovisual-SIN task', 'keywords': ['SIN', 'ADHD'], 'authors': [{'name': 'Anne M. P. Michalek', 'affiliation': 'Old Dominion University', 'email': 'aperrott@odu.edu'}], 'streams': {'gaze': {'name': 'Gaze', 'description': 'gaze point', 'unit': '', 'frequency': 60.0, 'fields': {'x': {'name': 'gaze x', 'description': 'Normalized X-Gaze Point', 'dtype': 'f32'}, 'y': {'name': 'gaze y', 'description': 'Normalized Y-Gaze Point', 'dtype': 'f32'}}, 'index': {'t': {'name': 'timestamp', 'description': 'Recording Timestamp', 'dtype': 'f32'}}, 'node': {'device': {'model': 'Pro X2-60', 'manufacturer': 'Tobii', 'category': 'Eye Tracker'}, 'uri': None, 'inputs': {}, 'outputs': {}}, 'attrs': {}}, 'pupil': {'name': 'Pupil', 'description': 'pupil diameter', 'unit': 'mm', 'frequency': 60.0, 'fields': {'d': {'name': 'pupil d', 'description': 'Pupil Diameter', 'dtype': 'f32'}}, 'index': {'t': {'name': 'timestamp', 'description': 'Recording Timestamp', 'dtype': 'f32'}}, 'node': {'device': {'model': 'Pro X2-60', 'manufacturer': 'Tobii', 'category': 'Eye Tracker'}, 'uri': None, 'inputs': {}, 'outputs': {}}, 'attrs': {}}}, 'groups': {'participant': {'description': 'The ID of each participant', 'values': ['3', '5', '12', '14', '18', '21', '24', '26', '30', '32', '34', '35', '36', '37', '38', '47']}, 'question': {'description': 'The ID of in each question', 'values': ['1', '2', '3', '4', '5', '6', '7', '8', '9', '10', '11', '12', '13', '14', '15', '16', '17', '18']}, 'noise': {'description': 'The noise level of each question', 'values': ['0', '5', '10', '15', '20', '25']}}, 'pattern': 'P{participant}_N{noise}_Q{question}'}\n",
      "{'name': 'n_back', 'description': 'Eye movements of participants during a n-back task', 'keywords': ['n-back'], 'authors': [{'name': 'Andrew T. Duchowski', 'affiliation': 'Clemson University', 'email': 'duchowski@clemson.edu'}], 'streams': {'gaze': {'name': 'Gaze', 'description': 'gaze point', 'unit': '', 'frequency': 1000.0, 'fields': {'x': {'name': 'gaze x', 'description': 'Normalized X-Gaze Point', 'dtype': 'f32'}, 'y': {'name': 'gaze y', 'description': 'Normalized Y-Gaze Point', 'dtype': 'f32'}}, 'index': {'t': {'name': 'timestamp', 'description': 'Recording Timestamp', 'dtype': 'f32'}}, 'node': {'device': {'model': 'Eyelink 1000', 'manufacturer': 'SR Research', 'category': 'Eye Tracker'}, 'uri': None, 'inputs': {}, 'outputs': {}}, 'attrs': {}}, 'pupil': {'name': 'Pupil', 'description': 'pupil diameter', 'unit': 'mm', 'frequency': 1000.0, 'fields': {'d': {'name': 'pupil d', 'description': 'Pupil Diameter', 'dtype': 'f32'}}, 'index': {'t': {'name': 'timestamp', 'description': 'Recording Timestamp', 'dtype': 'f32'}}, 'node': {'device': {'model': 'Eyelink 1000', 'manufacturer': 'SR Research', 'category': 'Eye Tracker'}, 'uri': None, 'inputs': {}, 'outputs': {}}, 'attrs': {}}}, 'groups': {'subject': {'description': 'The ID of each subject', 'values': ['1', '2', '3', '4', '5', '6', '7', '8', '9', '10', '11', '12', '13', '14', '15', '16', '17', '18', '19']}, 'mode': {'description': 'The mode of experiment', 'values': ['baseline', 'task']}, 'task': {'description': 'The ID of the task', 'values': ['1', '2']}, 'position': {'description': 'The position of each task', 'values': ['top_left', 'top_right', 'center', 'bottom_left', 'bottom_right']}}, 'pattern': 'S{subject}_{mode}_{task}back_{position}'}\n",
      "{'name': 'pg_weather', 'description': 'Weather Dataset', 'keywords': ['Weather', 'Climate'], 'authors': [{'name': 'Gabriel Dzodom', 'affiliation': 'Texas A&M University', 'email': 'gabriel.dzodom@tamu.edu'}, {'name': 'Frank Shipman', 'affiliation': 'Texas A&M University', 'email': 'shipman@cse.tamu.edu'}], 'streams': {'temperature': {'name': 'temperature', 'description': 'temperature', 'unit': 'F', 'frequency': 1.0, 'fields': {'maxtemperature': {'name': 'max_temperature', 'description': 'max temperature', 'dtype': 'f32'}, 'meantemperature': {'name': 'mean_temperature', 'description': 'mean temperature', 'dtype': 'f32'}, 'mintemperature': {'name': 'min_temperature', 'description': 'min temperature', 'dtype': 'f32'}}, 'index': {'t': {'name': 'date', 'description': 'date', 'dtype': 'i32'}}, 'node': {'device': {'model': 'Weather Data', 'manufacturer': '', 'category': 'Temporal'}, 'uri': None, 'inputs': {}, 'outputs': {}}, 'attrs': {}}, 'dewpoint': {'name': 'dewpoint', 'description': 'dewpoint', 'unit': '', 'frequency': 1.0, 'fields': {'maxdewpoint': {'name': 'max_dewpoint', 'description': 'max dewpoint', 'dtype': 'f32'}, 'meandewpoint': {'name': 'mean_dewpoint', 'description': 'mean dewpoint', 'dtype': 'f32'}, 'mindewpoint': {'name': 'min_dewpoint', 'description': 'min dewpoint', 'dtype': 'f32'}}, 'index': {'t': {'name': 'date', 'description': 'date', 'dtype': 'i32'}}, 'node': {'device': {'model': 'Weather Data', 'manufacturer': '', 'category': 'Temporal'}, 'uri': None, 'inputs': {}, 'outputs': {}}, 'attrs': {}}, 'humidity': {'name': 'humidity', 'description': 'humidity', 'unit': '', 'frequency': 1.0, 'fields': {'maxhumidity': {'name': 'max_humidity', 'description': 'max humidity', 'dtype': 'f32'}, 'meanhumidity': {'name': 'mean_humidity', 'description': 'mean humidity', 'dtype': 'f32'}, 'minhumidity': {'name': 'min_humidity', 'description': 'min humidity', 'dtype': 'f32'}}, 'index': {'t': {'name': 'date', 'description': 'date', 'dtype': 'i32'}}, 'node': {'device': {'model': 'Weather Data', 'manufacturer': '', 'category': 'Temporal'}, 'uri': None, 'inputs': {}, 'outputs': {}}, 'attrs': {}}, 'sealevelpressure': {'name': 'sealevelpressure', 'description': 'sealevelpressure', 'unit': '', 'frequency': 1.0, 'fields': {'maxsealevelpressure': {'name': 'max_sea_level_pressure', 'description': 'max sea level pressure', 'dtype': 'f32'}, 'meansealevelpressure': {'name': 'mean_sea_level_pressure', 'description': 'mean sea level pressure', 'dtype': 'f32'}, 'minsealevelpressure': {'name': 'min_sea_level_pressure', 'description': 'min sea level pressure', 'dtype': 'f32'}}, 'index': {'t': {'name': 'date', 'description': 'date', 'dtype': 'i32'}}, 'node': {'device': {'model': 'Weather Data', 'manufacturer': '', 'category': 'Temporal'}, 'uri': None, 'inputs': {}, 'outputs': {}}, 'attrs': {}}, 'visibility': {'name': 'visibility', 'description': 'visibility', 'unit': '', 'frequency': 1.0, 'fields': {'maxvisibility': {'name': 'max_visibility', 'description': 'max visibility', 'dtype': 'f32'}, 'meanvisibility': {'name': 'mean_visibility', 'description': 'mean visibility', 'dtype': 'f32'}, 'minvisibility': {'name': 'min_visibility', 'description': 'min visibility', 'dtype': 'f32'}}, 'index': {'t': {'name': 'date', 'description': 'date', 'dtype': 'i32'}}, 'node': {'device': {'model': 'Weather Data', 'manufacturer': '', 'category': 'Temporal'}, 'uri': None, 'inputs': {}, 'outputs': {}}, 'attrs': {}}, 'windspeed': {'name': 'windspeed', 'description': 'windspeed', 'unit': '', 'frequency': 1.0, 'fields': {'maxwindspeed': {'name': 'max_windspeed', 'description': 'max windspeed', 'dtype': 'f32'}, 'meanwindspeed': {'name': 'mean_windspeed', 'description': 'mean windspeed', 'dtype': 'f32'}, 'maxgustspeed': {'name': 'max_gustspeed', 'description': 'max gustspeed', 'dtype': 'f32'}}, 'index': {'t': {'name': 'date', 'description': 'date', 'dtype': 'i32'}}, 'node': {'device': {'model': 'Weather Data', 'manufacturer': '', 'category': 'Temporal'}, 'uri': None, 'inputs': {}, 'outputs': {}}, 'attrs': {}}, 'precipitation': {'name': 'precipitation', 'description': 'precipitation', 'unit': '', 'frequency': 1.0, 'fields': {'precipitation': {'name': 'precipitation', 'description': 'precipitation', 'dtype': 'f32'}}, 'index': {'t': {'name': 'date', 'description': 'date', 'dtype': 'i32'}}, 'node': {'device': {'model': 'Weather Data', 'manufacturer': '', 'category': 'Temporal'}, 'uri': None, 'inputs': {}, 'outputs': {}}, 'attrs': {}}, 'cloudcover': {'name': 'cloudcover', 'description': 'cloudcover', 'unit': '', 'frequency': 1.0, 'fields': {'cloudcover': {'name': 'cloud_cover', 'description': 'cloud cover', 'dtype': 'f32'}}, 'index': {'t': {'name': 'date', 'description': 'date', 'dtype': 'i32'}}, 'node': {'device': {'model': 'Weather Data', 'manufacturer': '', 'category': 'Temporal'}, 'uri': None, 'inputs': {}, 'outputs': {}}, 'attrs': {}}, 'winddirection': {'name': 'winddirection', 'description': 'winddirection', 'unit': '', 'frequency': 1.0, 'fields': {'winddirection': {'name': 'wind_direction', 'description': 'wind direction', 'dtype': 'f32'}}, 'index': {'t': {'name': 'date', 'description': 'date', 'dtype': 'i32'}}, 'node': {'device': {'model': 'Weather Data', 'manufacturer': '', 'category': 'Temporal'}, 'uri': None, 'inputs': {}, 'outputs': {}}, 'attrs': {}}}, 'groups': {'city': {'description': 'The city of the corresponding weather data', 'values': ['albuquerque', 'atlanta', 'billings', 'boise', 'boston', 'buffalo', 'charlotte', 'chicago', 'cleveland', 'columbus', 'dallas', 'denver', 'des moines', 'detroit', 'district of columbia', 'el paso', 'fargo', 'indianapolis', 'jackson', 'jacksonville', 'kansas city', 'las vegas', 'lincoln', 'little rock', 'los angeles', 'louisville', 'manhattan', 'memphis', 'miami', 'milwaukee', 'minneapolis', 'missoula', 'montgomery', 'nashville', 'new orleans', 'oklahoma city', 'philadelphia', 'phoenix', 'pittsburgh', 'portland', 'rapid city', 'saint louis', 'salt lake city', 'san antonio', 'san francisco', 'seattle', 'sioux falls', 'spokane', 'tucson']}, 'state': {'description': 'The city of the corresponding weather data', 'values': ['alabama', 'arizona', 'arkansas', 'california', 'colorado', 'florida', 'georgia', 'illinois', 'indiana', 'iowa', 'kentucky', 'louisiana', 'maine', 'massachusetts', 'michigan', 'minnesota', 'mississippi', 'missouri', 'montana', 'nebraska', 'nevada', 'new mexico', 'new york', 'north carolina', 'north dakota', 'ohio', 'oklahoma', 'oregon', 'pennsylvania', 'south dakota', 'tennessee', 'texas', 'utah', 'washington', 'washington dc', 'wisconsin']}}, 'pattern': '{state}_{city}'}\n"
     ]
    }
   ],
   "source": [
    "collection_arr: List[dict] = []\n",
    "from pprint import pprint\n",
    "async def list_collections():\n",
    "    sendmsg = serializer.encode(b\"list_collections\", {})\n",
    "    await websocket.send(sendmsg)\n",
    "    recvmsg = await websocket.recv()\n",
    "    topic, content = serializer.decode(recvmsg)\n",
    "    print(topic)\n",
    "    collections = content[\"collections\"]\n",
    "    print(*collections[:10], sep=\"\\n\")\n",
    "    collection_arr.extend(collections)\n",
    "await list_collections()"
   ]
  },
  {
   "cell_type": "code",
   "execution_count": 5,
   "metadata": {},
   "outputs": [
    {
     "name": "stdout",
     "output_type": "stream",
     "text": [
      "b'list_collection_streams' adhd_sin\n",
      "{'name': 'Gaze', 'description': 'gaze point', 'unit': '', 'frequency': 60.0, 'fields': {'x': {'name': 'gaze x', 'description': 'Normalized X-Gaze Point', 'dtype': 'f32'}, 'y': {'name': 'gaze y', 'description': 'Normalized Y-Gaze Point', 'dtype': 'f32'}}, 'index': {'t': {'name': 'timestamp', 'description': 'Recording Timestamp', 'dtype': 'f32'}}, 'node': {'device': {'model': 'Pro X2-60', 'manufacturer': 'Tobii', 'category': 'Eye Tracker'}, 'uri': None, 'inputs': {}, 'outputs': {}}, 'attrs': {'diagnosis': 'Non-ADHD', 'gender': 'male', 'noise': '5', 'participant': '5', 'question': '18', 'collection': 'adhd_sin', 'id': 'gaze'}}\n",
      "{'name': 'Pupil', 'description': 'pupil diameter', 'unit': 'mm', 'frequency': 60.0, 'fields': {'d': {'name': 'pupil d', 'description': 'Pupil Diameter', 'dtype': 'f32'}}, 'index': {'t': {'name': 'timestamp', 'description': 'Recording Timestamp', 'dtype': 'f32'}}, 'node': {'device': {'model': 'Pro X2-60', 'manufacturer': 'Tobii', 'category': 'Eye Tracker'}, 'uri': None, 'inputs': {}, 'outputs': {}}, 'attrs': {'diagnosis': 'Non-ADHD', 'gender': 'male', 'noise': '5', 'participant': '5', 'question': '18', 'collection': 'adhd_sin', 'id': 'pupil'}}\n",
      "{'name': 'Gaze', 'description': 'gaze point', 'unit': '', 'frequency': 60.0, 'fields': {'x': {'name': 'gaze x', 'description': 'Normalized X-Gaze Point', 'dtype': 'f32'}, 'y': {'name': 'gaze y', 'description': 'Normalized Y-Gaze Point', 'dtype': 'f32'}}, 'index': {'t': {'name': 'timestamp', 'description': 'Recording Timestamp', 'dtype': 'f32'}}, 'node': {'device': {'model': 'Pro X2-60', 'manufacturer': 'Tobii', 'category': 'Eye Tracker'}, 'uri': None, 'inputs': {}, 'outputs': {}}, 'attrs': {'diagnosis': 'Non-ADHD', 'gender': 'male', 'noise': '5', 'participant': '5', 'question': '18', 'collection': 'adhd_sin', 'id': 'gaze'}}\n",
      "{'name': 'Pupil', 'description': 'pupil diameter', 'unit': 'mm', 'frequency': 60.0, 'fields': {'d': {'name': 'pupil d', 'description': 'Pupil Diameter', 'dtype': 'f32'}}, 'index': {'t': {'name': 'timestamp', 'description': 'Recording Timestamp', 'dtype': 'f32'}}, 'node': {'device': {'model': 'Pro X2-60', 'manufacturer': 'Tobii', 'category': 'Eye Tracker'}, 'uri': None, 'inputs': {}, 'outputs': {}}, 'attrs': {'diagnosis': 'Non-ADHD', 'gender': 'male', 'noise': '5', 'participant': '5', 'question': '18', 'collection': 'adhd_sin', 'id': 'pupil'}}\n",
      "{'name': 'Gaze', 'description': 'gaze point', 'unit': '', 'frequency': 60.0, 'fields': {'x': {'name': 'gaze x', 'description': 'Normalized X-Gaze Point', 'dtype': 'f32'}, 'y': {'name': 'gaze y', 'description': 'Normalized Y-Gaze Point', 'dtype': 'f32'}}, 'index': {'t': {'name': 'timestamp', 'description': 'Recording Timestamp', 'dtype': 'f32'}}, 'node': {'device': {'model': 'Pro X2-60', 'manufacturer': 'Tobii', 'category': 'Eye Tracker'}, 'uri': None, 'inputs': {}, 'outputs': {}}, 'attrs': {'diagnosis': 'Non-ADHD', 'gender': 'male', 'noise': '5', 'participant': '5', 'question': '18', 'collection': 'adhd_sin', 'id': 'gaze'}}\n",
      "{'name': 'Pupil', 'description': 'pupil diameter', 'unit': 'mm', 'frequency': 60.0, 'fields': {'d': {'name': 'pupil d', 'description': 'Pupil Diameter', 'dtype': 'f32'}}, 'index': {'t': {'name': 'timestamp', 'description': 'Recording Timestamp', 'dtype': 'f32'}}, 'node': {'device': {'model': 'Pro X2-60', 'manufacturer': 'Tobii', 'category': 'Eye Tracker'}, 'uri': None, 'inputs': {}, 'outputs': {}}, 'attrs': {'diagnosis': 'Non-ADHD', 'gender': 'male', 'noise': '5', 'participant': '5', 'question': '18', 'collection': 'adhd_sin', 'id': 'pupil'}}\n",
      "{'name': 'Gaze', 'description': 'gaze point', 'unit': '', 'frequency': 60.0, 'fields': {'x': {'name': 'gaze x', 'description': 'Normalized X-Gaze Point', 'dtype': 'f32'}, 'y': {'name': 'gaze y', 'description': 'Normalized Y-Gaze Point', 'dtype': 'f32'}}, 'index': {'t': {'name': 'timestamp', 'description': 'Recording Timestamp', 'dtype': 'f32'}}, 'node': {'device': {'model': 'Pro X2-60', 'manufacturer': 'Tobii', 'category': 'Eye Tracker'}, 'uri': None, 'inputs': {}, 'outputs': {}}, 'attrs': {'diagnosis': 'Non-ADHD', 'gender': 'male', 'noise': '5', 'participant': '5', 'question': '18', 'collection': 'adhd_sin', 'id': 'gaze'}}\n",
      "{'name': 'Pupil', 'description': 'pupil diameter', 'unit': 'mm', 'frequency': 60.0, 'fields': {'d': {'name': 'pupil d', 'description': 'Pupil Diameter', 'dtype': 'f32'}}, 'index': {'t': {'name': 'timestamp', 'description': 'Recording Timestamp', 'dtype': 'f32'}}, 'node': {'device': {'model': 'Pro X2-60', 'manufacturer': 'Tobii', 'category': 'Eye Tracker'}, 'uri': None, 'inputs': {}, 'outputs': {}}, 'attrs': {'diagnosis': 'Non-ADHD', 'gender': 'male', 'noise': '5', 'participant': '5', 'question': '18', 'collection': 'adhd_sin', 'id': 'pupil'}}\n",
      "{'name': 'Gaze', 'description': 'gaze point', 'unit': '', 'frequency': 60.0, 'fields': {'x': {'name': 'gaze x', 'description': 'Normalized X-Gaze Point', 'dtype': 'f32'}, 'y': {'name': 'gaze y', 'description': 'Normalized Y-Gaze Point', 'dtype': 'f32'}}, 'index': {'t': {'name': 'timestamp', 'description': 'Recording Timestamp', 'dtype': 'f32'}}, 'node': {'device': {'model': 'Pro X2-60', 'manufacturer': 'Tobii', 'category': 'Eye Tracker'}, 'uri': None, 'inputs': {}, 'outputs': {}}, 'attrs': {'diagnosis': 'Non-ADHD', 'gender': 'male', 'noise': '5', 'participant': '5', 'question': '18', 'collection': 'adhd_sin', 'id': 'gaze'}}\n",
      "{'name': 'Pupil', 'description': 'pupil diameter', 'unit': 'mm', 'frequency': 60.0, 'fields': {'d': {'name': 'pupil d', 'description': 'Pupil Diameter', 'dtype': 'f32'}}, 'index': {'t': {'name': 'timestamp', 'description': 'Recording Timestamp', 'dtype': 'f32'}}, 'node': {'device': {'model': 'Pro X2-60', 'manufacturer': 'Tobii', 'category': 'Eye Tracker'}, 'uri': None, 'inputs': {}, 'outputs': {}}, 'attrs': {'diagnosis': 'Non-ADHD', 'gender': 'male', 'noise': '5', 'participant': '5', 'question': '18', 'collection': 'adhd_sin', 'id': 'pupil'}}\n"
     ]
    }
   ],
   "source": [
    "collection = collection_arr[0]\n",
    "streams_arr: List[dict] = []\n",
    "async def list_collection_streams():\n",
    "    sendmsg = serializer.encode(b\"list_collection_streams\", dict(collection_name=collection[\"name\"]))\n",
    "    await websocket.send(sendmsg)\n",
    "    recvmsg = await websocket.recv()\n",
    "    topic, content = serializer.decode(recvmsg)\n",
    "    collection_name = content[\"collection_name\"]\n",
    "    print(topic, collection_name)\n",
    "    streams = content[\"streams\"]\n",
    "    print(*streams[:10], sep=\"\\n\")\n",
    "    streams_arr.extend(streams)\n",
    "await list_collection_streams()"
   ]
  },
  {
   "cell_type": "code",
   "execution_count": 6,
   "metadata": {},
   "outputs": [
    {
     "name": "stdout",
     "output_type": "stream",
     "text": [
      "b'restream_collection_stream'\n",
      "{'collection_name': 'adhd_sin', 'stream_name': 'Gaze', 'attrs': {'diagnosis': 'Non-ADHD', 'gender': 'male', 'noise': '5', 'participant': '5', 'question': '18', 'collection': 'adhd_sin', 'id': 'gaze'}, 'status': 1}\n"
     ]
    }
   ],
   "source": [
    "stream = streams_arr[0]\n",
    "async def restream_streams():\n",
    "    sendmsg = serializer.encode(\n",
    "        b\"restream_collection_stream\",\n",
    "        dict(\n",
    "            collection_name=collection[\"name\"],\n",
    "            stream_name=stream[\"name\"],\n",
    "            attrs=stream[\"attrs\"]\n",
    "        )\n",
    "    )\n",
    "    await websocket.send(sendmsg)\n",
    "    recvmsg = await websocket.recv()\n",
    "    topic, content = serializer.decode(recvmsg)\n",
    "    print(topic)\n",
    "    print(content)\n",
    "await restream_streams()"
   ]
  },
  {
   "cell_type": "code",
   "execution_count": 7,
   "metadata": {},
   "outputs": [
    {
     "name": "stdout",
     "output_type": "stream",
     "text": [
      "b'list_lsl_streams' {'streams': [{'name': 'Gaze', 'description': 'gaze point', 'unit': '', 'frequency': 60.0, 'fields': {'x': {'name': 'gaze x', 'description': 'Normalized X-Gaze Point', 'dtype': 'f32'}, 'y': {'name': 'gaze y', 'description': 'Normalized Y-Gaze Point', 'dtype': 'f32'}}, 'index': {'t': {'name': 'timestamp', 'description': 'Recording Timestamp', 'dtype': 'f32'}}, 'node': {'device': {'model': 'Pro X2-60', 'manufacturer': 'Tobii', 'category': 'Eye Tracker'}, 'uri': None, 'inputs': {}, 'outputs': {}}, 'attrs': {'diagnosis': 'Non-ADHD', 'gender': 'male', 'noise': '5', 'participant': '5', 'question': '18', 'collection': 'adhd_sin', 'id': 'gaze', 'dfds_mode': 'restream'}}]}\n",
      "{'name': 'Gaze', 'description': 'gaze point', 'unit': '', 'frequency': 60.0, 'fields': {'x': {'name': 'gaze x', 'description': 'Normalized X-Gaze Point', 'dtype': 'f32'}, 'y': {'name': 'gaze y', 'description': 'Normalized Y-Gaze Point', 'dtype': 'f32'}}, 'index': {'t': {'name': 'timestamp', 'description': 'Recording Timestamp', 'dtype': 'f32'}}, 'node': {'device': {'model': 'Pro X2-60', 'manufacturer': 'Tobii', 'category': 'Eye Tracker'}, 'uri': None, 'inputs': {}, 'outputs': {}}, 'attrs': {'diagnosis': 'Non-ADHD', 'gender': 'male', 'noise': '5', 'participant': '5', 'question': '18', 'collection': 'adhd_sin', 'id': 'gaze', 'dfds_mode': 'restream'}}\n"
     ]
    }
   ],
   "source": [
    "async def list_lsl_streams():\n",
    "    sendmsg = serializer.encode(b\"list_lsl_streams\", {})\n",
    "    await websocket.send(sendmsg)\n",
    "    recvmsg = await websocket.recv()\n",
    "    topic, content = serializer.decode(recvmsg)\n",
    "    print(topic, content)\n",
    "    streams = content[\"streams\"]\n",
    "    print(*streams, sep=\"\\n\")\n",
    "    streams_arr.extend(streams)\n",
    "await list_lsl_streams()"
   ]
  }
 ],
 "metadata": {
  "kernelspec": {
   "display_name": "streaminghub",
   "language": "python",
   "name": "python3"
  },
  "language_info": {
   "codemirror_mode": {
    "name": "ipython",
    "version": 3
   },
   "file_extension": ".py",
   "mimetype": "text/x-python",
   "name": "python",
   "nbconvert_exporter": "python",
   "pygments_lexer": "ipython3",
   "version": "3.9.14"
  },
  "orig_nbformat": 4
 },
 "nbformat": 4,
 "nbformat_minor": 2
}
