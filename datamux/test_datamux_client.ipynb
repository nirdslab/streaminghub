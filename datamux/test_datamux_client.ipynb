{
 "cells": [
  {
   "attachments": {},
   "cell_type": "markdown",
   "metadata": {},
   "source": [
    "# Tests for DataMux"
   ]
  },
  {
   "cell_type": "code",
   "execution_count": 1,
   "metadata": {},
   "outputs": [],
   "source": [
    "import asyncio\n",
    "import websockets\n",
    "import logging"
   ]
  },
  {
   "cell_type": "code",
   "execution_count": 4,
   "metadata": {},
   "outputs": [],
   "source": [
    "import json\n",
    "from serializers import Serializer\n",
    "logging.basicConfig(format=\"%(asctime)-15s %(message)s\", level=logging.INFO)\n",
    "\n",
    "serializer = Serializer(\"json\")\n",
    "async def test():\n",
    "    async with websockets.connect('ws://127.0.0.1:3300/ws') as websocket:\n",
    "        await websocket.send(b\"list_collections|\")\n",
    "        payload = await websocket.recv()\n",
    "        topic, content = serializer.decode(payload)\n",
    "        print(topic, content)"
   ]
  },
  {
   "cell_type": "code",
   "execution_count": 5,
   "metadata": {},
   "outputs": [
    {
     "data": {
      "text/plain": [
       "<Task pending name='Task-9' coro=<test() running at /tmp/ipykernel_67367/121792762.py:6>>"
      ]
     },
     "execution_count": 5,
     "metadata": {},
     "output_type": "execute_result"
    },
    {
     "name": "stdout",
     "output_type": "stream",
     "text": [
      "b'list_collections' {'collections': []}\n"
     ]
    }
   ],
   "source": [
    "loop = asyncio.get_event_loop()\n",
    "loop.create_task(test())"
   ]
  }
 ],
 "metadata": {
  "kernelspec": {
   "display_name": "streaminghub",
   "language": "python",
   "name": "python3"
  },
  "language_info": {
   "codemirror_mode": {
    "name": "ipython",
    "version": 3
   },
   "file_extension": ".py",
   "mimetype": "text/x-python",
   "name": "python",
   "nbconvert_exporter": "python",
   "pygments_lexer": "ipython3",
   "version": "3.9.14"
  },
  "orig_nbformat": 4
 },
 "nbformat": 4,
 "nbformat_minor": 2
}
