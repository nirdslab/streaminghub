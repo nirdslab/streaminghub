{
 "cells": [
  {
   "attachments": {},
   "cell_type": "markdown",
   "metadata": {},
   "source": [
    "# Tests for DataMux"
   ]
  },
  {
   "cell_type": "code",
   "execution_count": null,
   "metadata": {},
   "outputs": [],
   "source": [
    "import logging\n",
    "logging.basicConfig(format=\"%(asctime)-15s %(message)s\", level=logging.INFO)\n",
    "from dotenv import load_dotenv\n",
    "load_dotenv()"
   ]
  },
  {
   "cell_type": "code",
   "execution_count": null,
   "metadata": {},
   "outputs": [],
   "source": [
    "from serving import WebsocketClient\n",
    "\n",
    "server_host = \"localhost\"\n",
    "server_port = 3300\n",
    "\n",
    "client = WebsocketClient(server_host, server_port, backend=\"avro\")\n",
    "await client.connect()"
   ]
  },
  {
   "cell_type": "code",
   "execution_count": null,
   "metadata": {},
   "outputs": [],
   "source": [
    "import asyncio\n",
    "\n",
    "collections = None\n",
    "collection_streams = None\n",
    "live_streams = None\n",
    "\n",
    "\n",
    "async def log_messages():\n",
    "    global collections\n",
    "    global collection_streams\n",
    "    global live_streams\n",
    "\n",
    "    while True:\n",
    "        payload = await client.recvmsg()\n",
    "        if payload is not None:\n",
    "            topic, content = payload\n",
    "            if topic == client.protocol.LIST_COLLECTIONS:\n",
    "                collections = content[\"collections\"]\n",
    "            if topic == client.protocol.LIST_COLLECTION_STREAMS:\n",
    "                collection_streams = content[\"streams\"]\n",
    "            if topic == client.protocol.LIST_LIVE_STREAMS:\n",
    "                live_streams = content[\"streams\"]\n",
    "\n",
    "\n",
    "logging_task = asyncio.create_task(log_messages())"
   ]
  },
  {
   "cell_type": "code",
   "execution_count": null,
   "metadata": {},
   "outputs": [],
   "source": [
    "await client.sendmsg(*client.datamux.list_collections())\n",
    "await asyncio.sleep(2)\n",
    "assert collections"
   ]
  },
  {
   "cell_type": "code",
   "execution_count": null,
   "metadata": {},
   "outputs": [],
   "source": [
    "await client.sendmsg(*client.datamux.list_collection_streams(\"adhd_sin\"))\n",
    "await asyncio.sleep(2)\n",
    "assert collection_streams"
   ]
  },
  {
   "cell_type": "code",
   "execution_count": null,
   "metadata": {},
   "outputs": [],
   "source": [
    "collection_name = \"adhd_sin\"\n",
    "stream_name = \"Gaze\"\n",
    "attrs = dict(\n",
    "    {\n",
    "        \"diagnosis\": \"Non-ADHD\",\n",
    "        \"gender\": \"female\",\n",
    "        \"noise\": \"0\",\n",
    "        \"participant\": \"12\",\n",
    "        \"question\": \"10\",\n",
    "        \"collection\": \"adhd_sin\",\n",
    "        \"id\": \"gaze\",\n",
    "    }\n",
    ")"
   ]
  },
  {
   "cell_type": "code",
   "execution_count": null,
   "metadata": {},
   "outputs": [],
   "source": [
    "await client.sendmsg(\n",
    "    *client.datamux.replay_collection_stream(collection_name, stream_name, attrs)\n",
    ")\n",
    "await asyncio.sleep(10)"
   ]
  },
  {
   "cell_type": "code",
   "execution_count": null,
   "metadata": {},
   "outputs": [],
   "source": [
    "await client.sendmsg(\n",
    "    *client.datamux.restream_collection_stream(collection_name, stream_name, attrs)\n",
    ")\n",
    "await asyncio.sleep(2)"
   ]
  },
  {
   "cell_type": "code",
   "execution_count": null,
   "metadata": {},
   "outputs": [],
   "source": [
    "await client.sendmsg(*client.datamux.list_live_streams())\n",
    "await asyncio.sleep(2)\n",
    "assert live_streams"
   ]
  },
  {
   "cell_type": "code",
   "execution_count": null,
   "metadata": {},
   "outputs": [],
   "source": [
    "assert live_streams\n",
    "live_stream = live_streams[0]\n",
    "\n",
    "ls_name = live_stream[\"name\"]\n",
    "ls_attrs = live_stream[\"attrs\"]\n",
    "await client.sendmsg(*client.datamux.relay_live_streams(ls_name, ls_attrs))"
   ]
  }
 ],
 "metadata": {
  "kernelspec": {
   "display_name": "streaminghub",
   "language": "python",
   "name": "python3"
  },
  "language_info": {
   "codemirror_mode": {
    "name": "ipython",
    "version": 3
   },
   "file_extension": ".py",
   "mimetype": "text/x-python",
   "name": "python",
   "nbconvert_exporter": "python",
   "pygments_lexer": "ipython3",
   "version": "3.11.4"
  },
  "orig_nbformat": 4
 },
 "nbformat": 4,
 "nbformat_minor": 2
}
