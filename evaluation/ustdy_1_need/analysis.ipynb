{
 "cells": [
  {
   "cell_type": "code",
   "execution_count": 1,
   "metadata": {},
   "outputs": [
    {
     "name": "stdout",
     "output_type": "stream",
     "text": [
      "/Users/yasith/projects/streaminghub/evaluation/ustdy_1_need\n"
     ]
    }
   ],
   "source": [
    "import pandas as pd\n",
    "import json\n",
    "from pathlib import Path\n",
    "pd.set_option('display.max_columns', 500)\n",
    "pd.set_option('display.max_rows', 500)\n",
    "pd.set_option('display.width', 1000)\n",
    "\n",
    "%cd evaluation/ustdy_1_need"
   ]
  },
  {
   "cell_type": "code",
   "execution_count": 5,
   "metadata": {},
   "outputs": [],
   "source": [
    "data_path = Path.cwd() / \"data\"\n",
    "\n",
    "data = {}\n",
    "poll = [\"N\", \"Y\"]\n",
    "for path in data_path.glob(\"*.json\"):\n",
    "    with open(path) as f:\n",
    "        answer = json.load(f)\n",
    "        for k, v in answer.items():\n",
    "            answer[k] = poll.index(v) if v in poll else int(v)\n",
    "        data[path.stem] = answer\n",
    "\n",
    "df_raw = pd.DataFrame(data)\n",
    "# replace Y/N in {b4,b5,c2} with 0/1\n",
    "df_raw.to_csv(\"stats/raw.csv\")\n",
    "df_raw.agg([\"mean\", \"std\"], axis=1).to_csv(\"stats/agg.csv\")"
   ]
  },
  {
   "cell_type": "code",
   "execution_count": 36,
   "metadata": {},
   "outputs": [],
   "source": [
    "from matplotlib import pyplot as plt\n",
    "\n",
    "r = 9 / 16\n",
    "\n",
    "titles = dict(\n",
    "    a1=\"Documenting Datasets\",\n",
    "    a2=\"Pre-Analysis Data Curation\",\n",
    "    a3=\"Post-Collection Data Curation\",\n",
    "    a4=\"Data Loading\",\n",
    "    b1=\"Understanding Experiment Variables\",\n",
    "    b2=\"Understanding Data Fields\",\n",
    "    b3=\"Mimic Real Workload\",\n",
    "    b4=\"B/M Peak WL\",\n",
    "    b5=\"B/M Real WL\",\n",
    "    c1=\"Connecting Data Streams with Algorithms\",\n",
    "    c2=\"Data Access\",\n",
    "    c3_1=\"Curator\",\n",
    "    c3_2=\" DataMux\",\n",
    ")\n",
    "\n",
    "indices = dict(\n",
    "    a1=[\"Variables\", \"Metadata\", \"Fields\", \"Units\"],\n",
    "    a2=[\"C+F+\", \"C+F-\", \"C-F+\", \"C-F-\"],\n",
    "    a3=[\"C+F+\", \"C+F-\", \"C-F+\", \"C-F-\"],\n",
    "    a4=[\"Reusing\", \"Scratch\"],\n",
    "    b1=[\"D+C+F+\", \"D+C+F-\", \"D+C-F+\", \"D+C-F-\", \"D-C+F+\", \"D-C+F-\", \"D-C-F+\", \"D-C-F-\"],\n",
    "    b2=[\"D+C+F+\", \"D+C+F-\", \"D+C-F+\", \"D+C-F-\", \"D-C+F+\", \"D-C+F-\", \"D-C-F+\", \"D-C-F-\"],\n",
    "    b3=[\"D+C+F+\", \"D+C+F-\", \"D+C-F+\", \"D+C-F-\", \"D-C+F+\", \"D-C+F-\", \"D-C-F+\", \"D-C-F-\"],\n",
    "    c1=[\"\"],\n",
    ")\n",
    "\n",
    "multi_cond_qs = (\"a1\", \"a2\", \"a3\", \"a4\", \"b1\", \"b2\", \"b3\", \"c1\")\n",
    "bnary_cond_qs = (\"b4\", \"b5\", \"c2\")\n",
    "ratng_cond_qs = (\"c3\",)\n",
    "\n",
    "# NOTE make sure A1 is interpeted as four different questions\n",
    "\n",
    "for q in multi_cond_qs:\n",
    "    qdata = df_raw.loc[df_raw.index.str.startswith(q)]\n",
    "    qdata_d_cols = qdata.index.str.endswith(\"_d\")\n",
    "    qdata_t_cols = qdata.index.str.endswith(\"_t\")\n",
    "    qdata_d = qdata.loc[qdata_d_cols].agg([\"mean\", \"std\"], axis=1)\n",
    "    qdata_t = qdata.loc[qdata_t_cols].agg([\"mean\", \"std\"], axis=1)\n",
    "    # cleanup index names\n",
    "    if q in indices:\n",
    "        qdata_d.index = pd.Index(indices[q])\n",
    "        qdata_t.index = pd.Index(indices[q])\n",
    "    qdf_mean = pd.DataFrame({\"difficulty\": qdata_d['mean'], \"time demand\": qdata_t['mean']})\n",
    "    qdf_std = pd.DataFrame({\"difficulty\": qdata_d['std'], \"time demand\": qdata_t['std']})\n",
    "    is_b = q[0] == 'b'\n",
    "    qdf_mean.plot.bar(title=f\"Q{q.upper()} - {titles[q]}\", yerr=qdf_std, rot=0, stacked=is_b)\n",
    "    plt.ylim(1, 10 if is_b else 5)\n",
    "    plt.tight_layout()\n",
    "    plt.savefig(f\"figures/q_{q}.pdf\")\n",
    "    plt.close()"
   ]
  },
  {
   "cell_type": "code",
   "execution_count": 41,
   "metadata": {},
   "outputs": [],
   "source": [
    "# visualize columns without difficulty / time demand\n",
    "qdata = df_raw.loc[df_raw.index.str.startswith(bnary_cond_qs)].agg([\"mean\", \"std\"], axis=1)\n",
    "qdata.index = qdata.index.map(titles.get)\n",
    "qdata[\"mean\"].plot.bar(title=f\"Need for Automation Tools\", rot=0)\n",
    "plt.ylim(0.75, 1)\n",
    "plt.tight_layout()\n",
    "plt.savefig(f\"figures/q_binary.pdf\")\n",
    "plt.close()\n",
    "\n",
    "# visualize columns without difficulty / time demand\n",
    "qdata = df_raw.loc[df_raw.index.str.startswith(ratng_cond_qs)].agg([\"mean\", \"std\"], axis=1)\n",
    "qdata.index = qdata.index.map(titles.get)\n",
    "qdata[\"mean\"].plot.bar(title=f\"Potential Impact\", yerr=qdata[\"std\"], rot=0)\n",
    "plt.ylim(4, 5)\n",
    "plt.tight_layout()\n",
    "plt.savefig(f\"figures/q_rating.pdf\")\n",
    "plt.close()"
   ]
  }
 ],
 "metadata": {
  "kernelspec": {
   "display_name": "Python 3",
   "language": "python",
   "name": "python3"
  },
  "language_info": {
   "codemirror_mode": {
    "name": "ipython",
    "version": 3
   },
   "file_extension": ".py",
   "mimetype": "text/x-python",
   "name": "python",
   "nbconvert_exporter": "python",
   "pygments_lexer": "ipython3",
   "version": "3.10.14"
  }
 },
 "nbformat": 4,
 "nbformat_minor": 2
}
