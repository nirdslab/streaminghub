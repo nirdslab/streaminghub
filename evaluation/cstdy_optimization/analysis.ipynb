{
 "cells": [
  {
   "cell_type": "code",
   "execution_count": null,
   "metadata": {},
   "outputs": [],
   "source": [
    "import json\n",
    "from pathlib import Path\n",
    "\n",
    "import pandas as pd\n",
    "import streaminghub_pydfds as dfds\n",
    "from tqdm import tqdm\n",
    "\n",
    "pd.set_option('display.max_rows', int(1e9))\n",
    "pd.set_option('display.max_columns', int(1e9))\n",
    "\n",
    "%cd evaluation/cstdy_optimization"
   ]
  },
  {
   "cell_type": "code",
   "execution_count": null,
   "metadata": {},
   "outputs": [],
   "source": [
    "cols = [\"t\", \"x\", \"y\"]\n",
    "base_path = Path.cwd() / \"generated\"\n",
    "print(base_path)"
   ]
  },
  {
   "cell_type": "code",
   "execution_count": null,
   "metadata": {},
   "outputs": [],
   "source": [
    "def compute_stat(fp: Path):\n",
    "\n",
    "    dir_name = fp.parent.name\n",
    "    file_name = fp.name\n",
    "\n",
    "    subject, noise, task = dir_name.split(\"_\")\n",
    "    simulation, vt = file_name.split(\"_\")\n",
    "\n",
    "    with open(fp) as f:\n",
    "        recs = [json.loads(line) for line in f.readlines()]\n",
    "    rcn_df = pd.DataFrame(recs)\n",
    "    rcn_df[\"t\"] = rcn_df[\"t\"].round(2)\n",
    "    rcn_df = rcn_df[cols]\n",
    "    t0, tn = rcn_df[\"t\"].iloc[0], rcn_df[\"t\"].iloc[-1]\n",
    "\n",
    "    # source dataset\n",
    "    src_dir = dfds.load_config().data_dir\n",
    "    src_fp = src_dir / \"ADHD_SIN\" / f\"{subject}_{noise}_{task}.parquet\"\n",
    "    reader = dfds.create_reader(src_fp)\n",
    "    src_meta, src_df = reader.read(rec_path=\".\")\n",
    "    src_df[\"x\"] = (src_df[\"lx\"] + src_df[\"rx\"]) / 2\n",
    "    src_df[\"y\"] = (src_df[\"ly\"] + src_df[\"ry\"]) / 2\n",
    "    src_df[\"t\"] = ((src_df[\"t\"] - src_df[\"t\"].iloc[0]) * 1e-3).round(2)\n",
    "    src_df = src_df[src_df[\"t\"].between(t0, tn)][cols]\n",
    "\n",
    "    rcn_df = rcn_df.set_index(\"t\")\n",
    "    src_df = src_df.set_index(\"t\")\n",
    "\n",
    "    if len(rcn_df.index) != len(src_df.index):\n",
    "        print(f\"bad result: {subject}_{noise}_{task}_{simulation}_{vt}\")\n",
    "        return None\n",
    "\n",
    "    m = rcn_df.join(src_df, lsuffix=\"_rcn\", rsuffix=\"_src\").dropna()\n",
    "    m[\"err_l2\"] = ((m[\"x_rcn\"] - m[\"x_src\"]) ** 2 + (m[\"y_rcn\"] - m[\"y_src\"]) ** 2) ** 0.5\n",
    "    err = m[\"err_l2\"].mean()\n",
    "\n",
    "    return dict(subject=subject, noise=noise, task=task, simulation=simulation, vt=vt, err=err)"
   ]
  },
  {
   "cell_type": "code",
   "execution_count": null,
   "metadata": {},
   "outputs": [],
   "source": [
    "stats = []\n",
    "\n",
    "for fp in tqdm(sorted(base_path.glob(\"*/*.log\"))):\n",
    "    stat = compute_stat(fp)\n",
    "    if stat is not None:\n",
    "        stats.append(stat)\n",
    "\n",
    "stats_df = pd.DataFrame(stats)\n",
    "stats_df.to_csv(\"generated/summary.csv\", index=False)"
   ]
  }
 ],
 "metadata": {
  "kernelspec": {
   "display_name": "Python 3",
   "language": "python",
   "name": "python3"
  },
  "language_info": {
   "codemirror_mode": {
    "name": "ipython",
    "version": 3
   },
   "file_extension": ".py",
   "mimetype": "text/x-python",
   "name": "python",
   "nbconvert_exporter": "python",
   "pygments_lexer": "ipython3",
   "version": "3.10.14"
  }
 },
 "nbformat": 4,
 "nbformat_minor": 2
}
