{
 "cells": [
  {
   "cell_type": "code",
   "execution_count": 1,
   "metadata": {},
   "outputs": [
    {
     "name": "stdout",
     "output_type": "stream",
     "text": [
      "/Users/yasith/projects/streaminghub/evaluation/ustdy_2_preference\n"
     ]
    }
   ],
   "source": [
    "import pandas as pd\n",
    "import json\n",
    "from pathlib import Path\n",
    "pd.set_option('display.max_columns', 500)\n",
    "pd.set_option('display.max_rows', 500)\n",
    "pd.set_option('display.width', 1000)\n",
    "\n",
    "%cd evaluation/ustdy_2_preference"
   ]
  },
  {
   "cell_type": "code",
   "execution_count": 2,
   "metadata": {},
   "outputs": [],
   "source": [
    "data_path = Path.cwd() / \"data\"\n",
    "\n",
    "titles = dict(\n",
    "    q1=\"Readability\",\n",
    "    q2=\"Maintainability\",\n",
    "    q3=\"Modular Design\",\n",
    "    q4=\"Reusability\",\n",
    "    q5=\"Extensibility\",\n",
    "    q6=\"Debugging\",\n",
    "    q7=\"Learning Curve\",\n",
    "    q8=\"Dependencies\",\n",
    "    q9=\"Error Handling\",\n",
    "    q10=\"Overall\",\n",
    "    q11=\"Refactoring A to C\",\n",
    "    q12=\"Refactoring B to C\",\n",
    ")\n",
    "\n",
    "rank_qs = [\"q1\", \"q2\", \"q3\", \"q4\", \"q5\", \"q6\", \"q7\", \"q8\", \"q9\", \"q10\"]\n",
    "rtng_qs = [\"q11\", \"q12\"]\n",
    "\n",
    "data = {}\n",
    "for path in data_path.glob(\"*.json\"):\n",
    "    with open(path) as f:\n",
    "        answer = json.load(f)\n",
    "        for k, v in answer.items():\n",
    "            answer[k] = int(v) if k in rtng_qs else v\n",
    "        data[path.stem] = answer\n",
    "\n",
    "df = pd.DataFrame(data)"
   ]
  },
  {
   "cell_type": "code",
   "execution_count": 3,
   "metadata": {},
   "outputs": [],
   "source": [
    "from matplotlib import pyplot as plt\n",
    "\n",
    "r = 12 / 16\n",
    "\n",
    "fig, axs = plt.subplots(nrows=2, ncols=5, figsize=(10, 4 * r), sharex=\"all\", sharey=\"all\")\n",
    "for i, q in enumerate(rank_qs):\n",
    "    # earlier it appears, higher the points\n",
    "    df_points = pd.DataFrame()\n",
    "    df_points[\"A\"] = 3 - df.loc[q].str.index(\"A\") # type: ignore\n",
    "    df_points[\"B\"] = 3 - df.loc[q].str.index(\"B\") # type: ignore\n",
    "    df_points[\"C\"] = 3 - df.loc[q].str.index(\"C\") # type: ignore\n",
    "    df_points = df_points.mean()\n",
    "    j, k = i // 5, i % 5\n",
    "    ax = axs[j][k]\n",
    "    df_points.plot.bar(title=f\"{q.upper()} - {titles[q]}\", ax=ax)\n",
    "    ax.set_ylim(0, 3)\n",
    "plt.suptitle(\"Rank-Based Score (Higher is Better)\")\n",
    "plt.tight_layout()\n",
    "plt.savefig(\"figures/q_pref.pdf\")\n",
    "plt.close()\n",
    "\n",
    "qdata = df.loc[rtng_qs].T.mean()\n",
    "qdata.index = pd.Index([\"A\", \"B\"])\n",
    "qdata.plot.bar(title=f\"Difficulty of Migration\")\n",
    "plt.ylim(1, 5)\n",
    "plt.tight_layout()\n",
    "plt.savefig(\"figures/q_rating.pdf\")\n",
    "plt.close()"
   ]
  }
 ],
 "metadata": {
  "kernelspec": {
   "display_name": "Python 3",
   "language": "python",
   "name": "python3"
  },
  "language_info": {
   "codemirror_mode": {
    "name": "ipython",
    "version": 3
   },
   "file_extension": ".py",
   "mimetype": "text/x-python",
   "name": "python",
   "nbconvert_exporter": "python",
   "pygments_lexer": "ipython3",
   "version": "3.10.14"
  }
 },
 "nbformat": 4,
 "nbformat_minor": 2
}
